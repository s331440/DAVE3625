{
  "nbformat": 4,
  "nbformat_minor": 0,
  "metadata": {
    "colab": {
      "provenance": [],
      "collapsed_sections": [],
      "machine_shape": "hm",
      "authorship_tag": "ABX9TyNVqR/kcSFIANI2CQQfoP04",
      "include_colab_link": true
    },
    "kernelspec": {
      "name": "python3",
      "display_name": "Python 3"
    },
    "language_info": {
      "name": "python"
    },
    "accelerator": "GPU"
  },
  "cells": [
    {
      "cell_type": "markdown",
      "metadata": {
        "id": "view-in-github",
        "colab_type": "text"
      },
      "source": [
        "<a href=\"https://colab.research.google.com/github/s331440/DAVE3625/blob/main/4030_assignment.ipynb\" target=\"_parent\"><img src=\"https://colab.research.google.com/assets/colab-badge.svg\" alt=\"Open In Colab\"/></a>"
      ]
    },
    {
      "cell_type": "code",
      "source": [
        "# machine learning libraries\n",
        "import tensorflow as tf #2.8.2\n",
        "from tensorflow import keras #2.8.0\n",
        "from tensorflow.keras.layers import Activation\n",
        "from tensorflow.keras.layers import BatchNormalization\n",
        "from mpl_toolkits.mplot3d import Axes3D\n",
        "import matplotlib\n",
        "import matplotlib.pyplot as plt\n",
        "from keras import Sequential\n",
        "from keras.callbacks import TensorBoard\n",
        "from keras.layers import Input\n",
        "from keras.layers.advanced_activations import LeakyReLU\n",
        "from keras.layers.convolutional import Conv3D, Deconv3D\n",
        "from keras.layers.core import Activation\n",
        "from keras.models import Model\n",
        "from tensorflow.keras.optimizers import Adam\n",
        "\n",
        "from tensorflow.keras.models import Sequential\n",
        "from tensorflow.keras.layers import Activation, Dense , Reshape,Flatten,Conv3D,Conv3DTranspose,LeakyReLU,Dropout\n",
        "from tensorflow.keras.layers import BatchNormalization\n",
        "from tensorflow.keras.optimizers import Adam\n",
        "from tensorflow.python import metrics\n",
        "from tensorflow.keras.metrics import binary_crossentropy\n",
        "\n",
        "from tensorflow.keras import layers\n",
        "\n",
        "# math libraries\n",
        "import numpy as np\n",
        "\n",
        "# visualization\n",
        "from matplotlib import pyplot as plt\n",
        "import scipy.io as io\n",
        "import scipy.ndimage as nd\n",
        "import glob\n",
        "import os\n",
        "import time\n",
        "\n",
        "# sys and helpers\n",
        "import sys\n",
        "import os\n",
        "import glob\n",
        "from tqdm import tqdm\n",
        "from datetime import datetime"
      ],
      "metadata": {
        "id": "sVeru52OEXw1"
      },
      "execution_count": null,
      "outputs": []
    },
    {
      "cell_type": "code",
      "source": [
        "import numpy as np\n",
        "data = np.load(\"/content/modelnet10.npz\", allow_pickle=True) #loading the dataset\n",
        "train_voxel = data[\"train_voxel\"] # Training 3D voxel samples\n",
        "train_labels = data[\"train_labels\"] # Training labels (integers from 0 to 9)\n",
        "class_map = data[\"class_map\"] # Dictionary mapping the labels to their class names."
      ],
      "metadata": {
        "id": "2dgjHkCY_xkC"
      },
      "execution_count": null,
      "outputs": []
    },
    {
      "cell_type": "code",
      "source": [
        "opt = Adam(learning_rate=0.0002,beta_1 = 0.5) #setting learning rate"
      ],
      "metadata": {
        "id": "Eq2AHLzc_z9y"
      },
      "execution_count": null,
      "outputs": []
    },
    {
      "cell_type": "code",
      "source": [
        "#creating the discriminator model\n",
        "def define_discriminator(in_shape=(64,64,64,1)):\n",
        "  print('inside discriminator')\n",
        "  model = Sequential()\n",
        "  model.add(Conv3D(64,(4,4,4), strides=(2,2,2), padding ='same', input_shape = in_shape))\n",
        "  model.add(LeakyReLU(alpha= 0.00001))\n",
        "  model.add(BatchNormalization(center=True, scale=True))\n",
        "  \n",
        "\n",
        "  model.add(Conv3D(64,(4,4,4), strides=(2,2,2), padding ='same'))\n",
        "  model.add(LeakyReLU(alpha= 0.00001))\n",
        "  model.add(BatchNormalization(center=True, scale=True))\n",
        "  \n",
        "\n",
        "  model.add(Conv3D(128,(4,4,4), strides=(2,2,2), padding ='same'))\n",
        "  model.add(LeakyReLU(alpha= 0.00001))\n",
        "  model.add(BatchNormalization(center=True, scale=True))\n",
        "  \n",
        "\n",
        "  model.add(Conv3D(256,(4,4,4), strides=(2,2,2), padding ='same'))\n",
        "  model.add(LeakyReLU(alpha= 0.00001))\n",
        "  model.add(BatchNormalization(center=True, scale=True))\n",
        "  \n",
        "\n",
        "  model.add(Conv3D(512,(4,4,4), strides=(2,2,2), padding ='same'))\n",
        "  model.add(LeakyReLU(alpha= 0.00001))\n",
        "  model.add(BatchNormalization(center=True, scale=True))\n",
        "\n",
        "  model.add(Conv3D(512,(4,4,4), strides=(2,2,2), padding ='same'))\n",
        "  model.add(LeakyReLU(alpha= 0.00001))\n",
        "  model.add(BatchNormalization(center=True, scale=True))\n",
        "\n",
        "  model.add(Flatten())\n",
        "  model.add(Dropout(0.4))\n",
        "  ##assert model.output_shape == (None,4096)\n",
        "  model.add(Dense(64,activation='sigmoid'))\n",
        "  model.add(Dense(1,activation='sigmoid'))\n",
        "  #model.add(Reshape(32,32,32))\n",
        "  model.compile(loss=binary_crossentropy,optimizer=opt, metrics=['accuracy'])\n",
        "  return model"
      ],
      "metadata": {
        "id": "QX41e1PkCwSR"
      },
      "execution_count": null,
      "outputs": []
    },
    {
      "cell_type": "code",
      "source": [
        "test_discr = define_discriminator()\n",
        "print(test_discr.summary()) #getting information about discriminator model, including how many parameters"
      ],
      "metadata": {
        "colab": {
          "base_uri": "https://localhost:8080/"
        },
        "id": "l-Q5AFhDDKGA",
        "outputId": "58040fd2-4ead-4251-e784-a330fce000b2"
      },
      "execution_count": null,
      "outputs": [
        {
          "output_type": "stream",
          "name": "stdout",
          "text": [
            "inside discriminator\n",
            "Model: \"sequential\"\n",
            "_________________________________________________________________\n",
            " Layer (type)                Output Shape              Param #   \n",
            "=================================================================\n",
            " conv3d (Conv3D)             (None, 32, 32, 32, 64)    4160      \n",
            "                                                                 \n",
            " leaky_re_lu (LeakyReLU)     (None, 32, 32, 32, 64)    0         \n",
            "                                                                 \n",
            " batch_normalization (BatchN  (None, 32, 32, 32, 64)   256       \n",
            " ormalization)                                                   \n",
            "                                                                 \n",
            " conv3d_1 (Conv3D)           (None, 16, 16, 16, 64)    262208    \n",
            "                                                                 \n",
            " leaky_re_lu_1 (LeakyReLU)   (None, 16, 16, 16, 64)    0         \n",
            "                                                                 \n",
            " batch_normalization_1 (Batc  (None, 16, 16, 16, 64)   256       \n",
            " hNormalization)                                                 \n",
            "                                                                 \n",
            " conv3d_2 (Conv3D)           (None, 8, 8, 8, 128)      524416    \n",
            "                                                                 \n",
            " leaky_re_lu_2 (LeakyReLU)   (None, 8, 8, 8, 128)      0         \n",
            "                                                                 \n",
            " batch_normalization_2 (Batc  (None, 8, 8, 8, 128)     512       \n",
            " hNormalization)                                                 \n",
            "                                                                 \n",
            " conv3d_3 (Conv3D)           (None, 4, 4, 4, 256)      2097408   \n",
            "                                                                 \n",
            " leaky_re_lu_3 (LeakyReLU)   (None, 4, 4, 4, 256)      0         \n",
            "                                                                 \n",
            " batch_normalization_3 (Batc  (None, 4, 4, 4, 256)     1024      \n",
            " hNormalization)                                                 \n",
            "                                                                 \n",
            " conv3d_4 (Conv3D)           (None, 2, 2, 2, 512)      8389120   \n",
            "                                                                 \n",
            " leaky_re_lu_4 (LeakyReLU)   (None, 2, 2, 2, 512)      0         \n",
            "                                                                 \n",
            " batch_normalization_4 (Batc  (None, 2, 2, 2, 512)     2048      \n",
            " hNormalization)                                                 \n",
            "                                                                 \n",
            " conv3d_5 (Conv3D)           (None, 1, 1, 1, 512)      16777728  \n",
            "                                                                 \n",
            " leaky_re_lu_5 (LeakyReLU)   (None, 1, 1, 1, 512)      0         \n",
            "                                                                 \n",
            " batch_normalization_5 (Batc  (None, 1, 1, 1, 512)     2048      \n",
            " hNormalization)                                                 \n",
            "                                                                 \n",
            " flatten (Flatten)           (None, 512)               0         \n",
            "                                                                 \n",
            " dropout (Dropout)           (None, 512)               0         \n",
            "                                                                 \n",
            " dense (Dense)               (None, 64)                32832     \n",
            "                                                                 \n",
            " dense_1 (Dense)             (None, 1)                 65        \n",
            "                                                                 \n",
            "=================================================================\n",
            "Total params: 28,094,081\n",
            "Trainable params: 28,091,009\n",
            "Non-trainable params: 3,072\n",
            "_________________________________________________________________\n",
            "None\n"
          ]
        }
      ]
    },
    {
      "cell_type": "code",
      "source": [
        "inputs = keras.Input(shape=(784,), name=\"digits\")\n",
        "x1 = layers.Dense(64, activation=\"relu\", name=\"dense_1\")(inputs)\n",
        "x2 = layers.Dense(64, activation=\"relu\", name=\"dense_2\")(x1)\n",
        "outputs = layers.Dense(10, name=\"predictions\")(x2)"
      ],
      "metadata": {
        "id": "5hIvdlJZ1upp"
      },
      "execution_count": null,
      "outputs": []
    },
    {
      "cell_type": "code",
      "source": [
        "# building the generator\n",
        "def define_generator(latent_dim):\n",
        "  model = Sequential()\n",
        "  n_nodes = 128*1*1*1\n",
        "  model.add(Dense(n_nodes,input_dim = latent_dim))\n",
        "  \n",
        "  model.add(LeakyReLU(alpha=0.2))\n",
        "  model.add(Reshape((1,1,1,128)))\n",
        "  model.add(Conv3DTranspose(512,(4,4,4), strides=(1,1,1),padding='valid'))\n",
        "  model.add(BatchNormalization())\n",
        "  model.add(LeakyReLU(alpha=0.2))\n",
        "  model.add(Conv3DTranspose(256,(4,4,4), strides=(2,2,2),padding='same'))\n",
        "  model.add(BatchNormalization())\n",
        "  model.add(LeakyReLU(alpha=0.2))\n",
        "  model.add(Conv3DTranspose(128,(4,4,4), strides=(2,2,2),padding='same'))\n",
        "  model.add(BatchNormalization())\n",
        "  model.add(LeakyReLU(alpha=0.2))\n",
        "  model.add(Conv3DTranspose(128,(4,4,4), strides=(2,2,2),padding='same'))\n",
        "  model.add(BatchNormalization())\n",
        "  model.add(LeakyReLU(alpha=0.2))\n",
        "  model.add(Conv3DTranspose(64,(4,4,4), strides=(2,2,2),padding='same'))\n",
        "  model.add(BatchNormalization())\n",
        "  model.add(LeakyReLU(alpha=0.2))\n",
        "\n",
        "  model.add(Conv3D(1,(8,8,8),activation = 'sigmoid',padding = 'same'))\n",
        "  \n",
        "  return model"
      ],
      "metadata": {
        "id": "Fn0i3HPwC1Ly"
      },
      "execution_count": null,
      "outputs": []
    },
    {
      "cell_type": "code",
      "source": [
        "test_gen = define_generator(200)\n",
        "\n",
        "print(test_gen.summary())"
      ],
      "metadata": {
        "colab": {
          "base_uri": "https://localhost:8080/"
        },
        "id": "lw9eInYlDBD8",
        "outputId": "793fb6fc-169c-4ab4-b6ef-c51f5ecc96cf"
      },
      "execution_count": null,
      "outputs": [
        {
          "output_type": "stream",
          "name": "stdout",
          "text": [
            "Model: \"sequential_1\"\n",
            "_________________________________________________________________\n",
            " Layer (type)                Output Shape              Param #   \n",
            "=================================================================\n",
            " dense_2 (Dense)             (None, 128)               25728     \n",
            "                                                                 \n",
            " leaky_re_lu_6 (LeakyReLU)   (None, 128)               0         \n",
            "                                                                 \n",
            " reshape (Reshape)           (None, 1, 1, 1, 128)      0         \n",
            "                                                                 \n",
            " conv3d_transpose (Conv3DTra  (None, 4, 4, 4, 512)     4194816   \n",
            " nspose)                                                         \n",
            "                                                                 \n",
            " batch_normalization_6 (Batc  (None, 4, 4, 4, 512)     2048      \n",
            " hNormalization)                                                 \n",
            "                                                                 \n",
            " leaky_re_lu_7 (LeakyReLU)   (None, 4, 4, 4, 512)      0         \n",
            "                                                                 \n",
            " conv3d_transpose_1 (Conv3DT  (None, 8, 8, 8, 256)     8388864   \n",
            " ranspose)                                                       \n",
            "                                                                 \n",
            " batch_normalization_7 (Batc  (None, 8, 8, 8, 256)     1024      \n",
            " hNormalization)                                                 \n",
            "                                                                 \n",
            " leaky_re_lu_8 (LeakyReLU)   (None, 8, 8, 8, 256)      0         \n",
            "                                                                 \n",
            " conv3d_transpose_2 (Conv3DT  (None, 16, 16, 16, 128)  2097280   \n",
            " ranspose)                                                       \n",
            "                                                                 \n",
            " batch_normalization_8 (Batc  (None, 16, 16, 16, 128)  512       \n",
            " hNormalization)                                                 \n",
            "                                                                 \n",
            " leaky_re_lu_9 (LeakyReLU)   (None, 16, 16, 16, 128)   0         \n",
            "                                                                 \n",
            " conv3d_transpose_3 (Conv3DT  (None, 32, 32, 32, 128)  1048704   \n",
            " ranspose)                                                       \n",
            "                                                                 \n",
            " batch_normalization_9 (Batc  (None, 32, 32, 32, 128)  512       \n",
            " hNormalization)                                                 \n",
            "                                                                 \n",
            " leaky_re_lu_10 (LeakyReLU)  (None, 32, 32, 32, 128)   0         \n",
            "                                                                 \n",
            " conv3d_transpose_4 (Conv3DT  (None, 64, 64, 64, 64)   524352    \n",
            " ranspose)                                                       \n",
            "                                                                 \n",
            " batch_normalization_10 (Bat  (None, 64, 64, 64, 64)   256       \n",
            " chNormalization)                                                \n",
            "                                                                 \n",
            " leaky_re_lu_11 (LeakyReLU)  (None, 64, 64, 64, 64)    0         \n",
            "                                                                 \n",
            " conv3d_6 (Conv3D)           (None, 64, 64, 64, 1)     32769     \n",
            "                                                                 \n",
            "=================================================================\n",
            "Total params: 16,316,865\n",
            "Trainable params: 16,314,689\n",
            "Non-trainable params: 2,176\n",
            "_________________________________________________________________\n",
            "None\n"
          ]
        }
      ]
    },
    {
      "cell_type": "code",
      "source": [
        "def generate_latent_points(latent_dim,n_samples):\n",
        "  X_input = np.random.randn(latent_dim * n_samples)\n",
        "  X_input = X_input.reshape(n_samples,latent_dim)\n",
        "  return X_input\n",
        "\n",
        "latent_dim = 200\n",
        "n_samples = 10\n",
        "\n",
        "X_out = generate_latent_points(latent_dim,n_samples)\n",
        "print(X_out)"
      ],
      "metadata": {
        "colab": {
          "base_uri": "https://localhost:8080/"
        },
        "id": "3QQ3qRhdDF_V",
        "outputId": "0670c248-bbe1-4130-a566-4e5f1c39bed8"
      },
      "execution_count": null,
      "outputs": [
        {
          "output_type": "stream",
          "name": "stdout",
          "text": [
            "[[ 0.09718451 -1.20616586  0.03161606 ...  0.6177538  -1.34729071\n",
            "  -0.00200198]\n",
            " [-0.43655426  0.44203416 -1.06049642 ...  0.10499804  0.04467096\n",
            "   0.18158986]\n",
            " [-1.24295131 -0.56674516 -0.15198934 ...  1.61583815  0.91530574\n",
            "   0.51616464]\n",
            " ...\n",
            " [-0.00324121 -0.8741347   0.04658458 ...  0.40076902 -1.80082929\n",
            "  -0.85430471]\n",
            " [-1.68749674  0.78395494 -0.29057423 ...  0.88077133  0.5319116\n",
            "   0.45534008]\n",
            " [ 0.08242824 -0.84525518  0.23976846 ...  0.00666077 -0.18916416\n",
            "   1.0415955 ]]\n"
          ]
        }
      ]
    },
    {
      "cell_type": "code",
      "source": [
        "def define_gan(generator,discriminator):\n",
        "  discriminator.trainable = False\n",
        "  model = Sequential()\n",
        "  model.add(generator)\n",
        "  model.add(discriminator)\n",
        "  opt = Adam(learning_rate = 0.0025,beta_1 = 0.5)\n",
        "  model.compile(loss='binary_crossentropy',optimizer = opt)\n",
        "  return model"
      ],
      "metadata": {
        "id": "FZt0SCvCDS8r"
      },
      "execution_count": null,
      "outputs": []
    },
    {
      "cell_type": "code",
      "source": [
        "def get_real_samples(train_voxel,n_samples):\n",
        "  #choose random images\n",
        "  ix = np.random.randint(0,train_voxel.shape[0],n_samples)\n",
        "  X = train_voxel[ix]\n",
        "  #assigning 1 to y indicating real images\n",
        "  y = np.ones((n_samples,1))\n",
        "  return X,y"
      ],
      "metadata": {
        "id": "2CNjye10DVTn"
      },
      "execution_count": null,
      "outputs": []
    },
    {
      "cell_type": "code",
      "source": [
        "def generate_fake_Samples(generator,latent_dim,n_samples):\n",
        "  #generate points in latent space\n",
        "  x_input = generate_latent_points(latent_dim,n_samples)\n",
        "  #predict using generator to generate fake samples\n",
        "  X = generator.predict(x_input)\n",
        "  # labeled as 0 since they are fake samples\n",
        "  y = np.zeros((n_samples,1))\n",
        "  return X,y"
      ],
      "metadata": {
        "id": "eU4R36PXDXvc"
      },
      "execution_count": null,
      "outputs": []
    },
    {
      "cell_type": "code",
      "source": [
        "# loss values for further plotting\n",
        "\n",
        "D_L_LOSS = []\n",
        "G_L_LOSS = []"
      ],
      "metadata": {
        "id": "HliDQ0m-0tum"
      },
      "execution_count": null,
      "outputs": []
    },
    {
      "cell_type": "code",
      "source": [
        "def train(g_model, d_model,gan_model,train_voxel,latent_dim,n_epochs = 3, n_batch= 10):\n",
        "  bat_per_epo = int(train_voxel.shape[0] / n_batch)\n",
        "  half_batch = int(n_batch / 2)\n",
        "\n",
        "  #training loop\n",
        "  for i in range(n_epochs):\n",
        "    for j in range(n_batch):\n",
        "      \n",
        "      X_real,y_real = get_real_samples(train_voxel,half_batch)\n",
        "      #measuring loss of discriminator\n",
        "      d_loss_real,_ = d_model.train_on_batch(X_real,y_real) \n",
        "\n",
        "      #generate fake samples\n",
        "      X_fake,y_fake = generate_fake_Samples(g_model,latent_dim,half_batch)\n",
        "      d_loss_fake,_ = d_model.train_on_batch(X_fake,y_fake)\n",
        "\n",
        "      #d_loss = 0.5 * np.add(d_loss_real, d_loss_fake)\n",
        "\n",
        "      #prepare latent points as input to the generator\n",
        "      X_gan = generate_latent_points(latent_dim,n_batch)\n",
        "\n",
        "      #generated samples are labeled as valid to fool the discriminator\n",
        "      y_gan = np.ones((n_batch,1))\n",
        "\n",
        "      #train generator with latent_dim and y as 1\n",
        "      g_loss = gan_model.train_on_batch(X_gan,y_gan)\n",
        "\n",
        "      print('Epoch>%d, Batch %d/%d,d1=%.3f,d2=%.3f,g=%.3f' %\n",
        "            (i+1,j+1,bat_per_epo,d_loss_real,d_loss_fake,g_loss))\n",
        "      \n",
        "      #this was used to try to show the history of the loss discriminator and generator\n",
        "      #train generator\n",
        "\n",
        "\n",
        "      d_loss = 0.5 * np.add(d_loss_real, d_loss_fake)\n",
        "      noise = np.random.normal(0, 1, (n_batch, 100))\n",
        "\n",
        "      # the generator wants the discriminator to label the generated samples\n",
        "      # as valid (ones)\n",
        "      valid_y = np.array([1] * 32)\n",
        "\n",
        "      # Plot the progress\n",
        "      print (\"%d [D loss: %f, acc.: %.2f%%] [G loss: %f]\" % (n_epochs, d_loss_real, d_loss_fake, g_loss))\n",
        "            \n",
        "      D_L_LOSS.append(d_loss_real)\n",
        "      G_L_LOSS.append(g_loss)\n",
        "     \n",
        "\n"
      ],
      "metadata": {
        "id": "bM7fAYnIDZr_"
      },
      "execution_count": null,
      "outputs": []
    },
    {
      "cell_type": "code",
      "source": [
        "#train the gan\n",
        "#size of latent space\n",
        "latent_dim = 200\n",
        "#create the discriminator\n",
        "discriminator = define_discriminator()\n",
        "#create the generator\n",
        "generator = define_generator(latent_dim)\n",
        "#create gan\n",
        "gan_model = define_gan(generator,discriminator)\n",
        "#train model\n",
        "train(generator,discriminator,gan_model,train_voxel,latent_dim,n_epochs=3)"
      ],
      "metadata": {
        "colab": {
          "base_uri": "https://localhost:8080/"
        },
        "id": "R_FblmTHDdOZ",
        "outputId": "19c2fe21-d62b-412e-a213-757a342c58ce"
      },
      "execution_count": null,
      "outputs": [
        {
          "output_type": "stream",
          "name": "stdout",
          "text": [
            "inside discriminator\n",
            "Epoch>1, Batch 1/399,d1=1.241,d2=0.343,g=1.221\n",
            "3 [D loss: 1.240758, acc.: 0.34%] [G loss: 1.221093]\n",
            "Epoch>1, Batch 2/399,d1=1.357,d2=0.341,g=1.212\n",
            "3 [D loss: 1.357080, acc.: 0.34%] [G loss: 1.211762]\n",
            "Epoch>1, Batch 3/399,d1=1.228,d2=0.321,g=1.207\n",
            "3 [D loss: 1.227969, acc.: 0.32%] [G loss: 1.206811]\n",
            "Epoch>1, Batch 4/399,d1=1.232,d2=0.356,g=1.199\n",
            "3 [D loss: 1.232350, acc.: 0.36%] [G loss: 1.198918]\n",
            "Epoch>1, Batch 5/399,d1=1.301,d2=0.342,g=1.194\n",
            "3 [D loss: 1.300648, acc.: 0.34%] [G loss: 1.193813]\n",
            "Epoch>1, Batch 6/399,d1=1.165,d2=0.429,g=1.185\n",
            "3 [D loss: 1.165474, acc.: 0.43%] [G loss: 1.184531]\n",
            "Epoch>1, Batch 7/399,d1=1.228,d2=0.365,g=1.179\n",
            "3 [D loss: 1.227885, acc.: 0.36%] [G loss: 1.178739]\n",
            "Epoch>1, Batch 8/399,d1=1.225,d2=0.329,g=1.171\n",
            "3 [D loss: 1.224888, acc.: 0.33%] [G loss: 1.170938]\n",
            "Epoch>1, Batch 9/399,d1=1.266,d2=0.341,g=1.153\n",
            "3 [D loss: 1.266047, acc.: 0.34%] [G loss: 1.153368]\n",
            "Epoch>1, Batch 10/399,d1=1.180,d2=0.347,g=1.147\n",
            "3 [D loss: 1.179721, acc.: 0.35%] [G loss: 1.146644]\n",
            "Epoch>2, Batch 1/399,d1=1.088,d2=0.348,g=1.145\n",
            "3 [D loss: 1.087515, acc.: 0.35%] [G loss: 1.145062]\n",
            "Epoch>2, Batch 2/399,d1=1.147,d2=0.341,g=1.133\n",
            "3 [D loss: 1.146623, acc.: 0.34%] [G loss: 1.132944]\n",
            "Epoch>2, Batch 3/399,d1=1.158,d2=0.420,g=1.131\n",
            "3 [D loss: 1.157939, acc.: 0.42%] [G loss: 1.131382]\n",
            "Epoch>2, Batch 4/399,d1=1.128,d2=0.367,g=1.121\n",
            "3 [D loss: 1.127721, acc.: 0.37%] [G loss: 1.120774]\n",
            "Epoch>2, Batch 5/399,d1=1.190,d2=0.393,g=1.122\n",
            "3 [D loss: 1.190205, acc.: 0.39%] [G loss: 1.121632]\n",
            "Epoch>2, Batch 6/399,d1=0.948,d2=0.386,g=1.125\n",
            "3 [D loss: 0.948481, acc.: 0.39%] [G loss: 1.125077]\n",
            "Epoch>2, Batch 7/399,d1=1.158,d2=0.372,g=1.114\n",
            "3 [D loss: 1.158459, acc.: 0.37%] [G loss: 1.113561]\n",
            "Epoch>2, Batch 8/399,d1=1.210,d2=0.421,g=1.112\n",
            "3 [D loss: 1.210107, acc.: 0.42%] [G loss: 1.111982]\n",
            "Epoch>2, Batch 9/399,d1=1.030,d2=0.441,g=1.105\n",
            "3 [D loss: 1.030472, acc.: 0.44%] [G loss: 1.105282]\n",
            "Epoch>2, Batch 10/399,d1=1.090,d2=0.401,g=1.088\n",
            "3 [D loss: 1.090040, acc.: 0.40%] [G loss: 1.088199]\n",
            "Epoch>3, Batch 1/399,d1=1.125,d2=0.392,g=1.086\n",
            "3 [D loss: 1.124887, acc.: 0.39%] [G loss: 1.086142]\n",
            "Epoch>3, Batch 2/399,d1=1.031,d2=0.388,g=1.066\n",
            "3 [D loss: 1.030558, acc.: 0.39%] [G loss: 1.065748]\n",
            "Epoch>3, Batch 3/399,d1=1.086,d2=0.383,g=1.096\n",
            "3 [D loss: 1.085983, acc.: 0.38%] [G loss: 1.096226]\n",
            "Epoch>3, Batch 4/399,d1=1.104,d2=0.405,g=1.086\n",
            "3 [D loss: 1.103930, acc.: 0.41%] [G loss: 1.086261]\n",
            "Epoch>3, Batch 5/399,d1=1.224,d2=0.341,g=1.079\n",
            "3 [D loss: 1.223811, acc.: 0.34%] [G loss: 1.078593]\n",
            "Epoch>3, Batch 6/399,d1=1.161,d2=0.369,g=1.087\n",
            "3 [D loss: 1.161199, acc.: 0.37%] [G loss: 1.087227]\n",
            "Epoch>3, Batch 7/399,d1=1.097,d2=0.377,g=1.063\n",
            "3 [D loss: 1.097117, acc.: 0.38%] [G loss: 1.063425]\n",
            "Epoch>3, Batch 8/399,d1=1.161,d2=0.441,g=1.055\n",
            "3 [D loss: 1.160798, acc.: 0.44%] [G loss: 1.054848]\n",
            "Epoch>3, Batch 9/399,d1=1.042,d2=0.372,g=1.048\n",
            "3 [D loss: 1.042465, acc.: 0.37%] [G loss: 1.048281]\n",
            "Epoch>3, Batch 10/399,d1=1.113,d2=0.417,g=1.057\n",
            "3 [D loss: 1.112984, acc.: 0.42%] [G loss: 1.056704]\n"
          ]
        }
      ]
    },
    {
      "cell_type": "code",
      "source": [
        "for i in range(len(test_gen)):\n",
        "    filtered_ds = train_ds.filter(lambda x, l: tf.math.equal(l[0], i))\n",
        "    for image, label in filtered_ds.take(1):\n",
        "        ax = plt.subplot(3, 3, i+1)\n",
        "        plt.imshow(image[0].numpy().astype('uint8'))\n",
        "        plt.title(test_gen[label.numpy()[0]])\n",
        "        plt.axis('off')"
      ],
      "metadata": {
        "colab": {
          "base_uri": "https://localhost:8080/",
          "height": 235
        },
        "id": "7oCYG7QDIc-P",
        "outputId": "b5a952b5-4fec-4b6d-c8f1-4eed717f5468"
      },
      "execution_count": null,
      "outputs": [
        {
          "output_type": "error",
          "ename": "TypeError",
          "evalue": "ignored",
          "traceback": [
            "\u001b[0;31m---------------------------------------------------------------------------\u001b[0m",
            "\u001b[0;31mTypeError\u001b[0m                                 Traceback (most recent call last)",
            "\u001b[0;32m<ipython-input-37-894097f2151b>\u001b[0m in \u001b[0;36m<module>\u001b[0;34m\u001b[0m\n\u001b[0;32m----> 1\u001b[0;31m \u001b[0;32mfor\u001b[0m \u001b[0mi\u001b[0m \u001b[0;32min\u001b[0m \u001b[0mrange\u001b[0m\u001b[0;34m(\u001b[0m\u001b[0mlen\u001b[0m\u001b[0;34m(\u001b[0m\u001b[0mtest_gen\u001b[0m\u001b[0;34m)\u001b[0m\u001b[0;34m)\u001b[0m\u001b[0;34m:\u001b[0m\u001b[0;34m\u001b[0m\u001b[0;34m\u001b[0m\u001b[0m\n\u001b[0m\u001b[1;32m      2\u001b[0m     \u001b[0mfiltered_ds\u001b[0m \u001b[0;34m=\u001b[0m \u001b[0mtrain_ds\u001b[0m\u001b[0;34m.\u001b[0m\u001b[0mfilter\u001b[0m\u001b[0;34m(\u001b[0m\u001b[0;32mlambda\u001b[0m \u001b[0mx\u001b[0m\u001b[0;34m,\u001b[0m \u001b[0ml\u001b[0m\u001b[0;34m:\u001b[0m \u001b[0mtf\u001b[0m\u001b[0;34m.\u001b[0m\u001b[0mmath\u001b[0m\u001b[0;34m.\u001b[0m\u001b[0mequal\u001b[0m\u001b[0;34m(\u001b[0m\u001b[0ml\u001b[0m\u001b[0;34m[\u001b[0m\u001b[0;36m0\u001b[0m\u001b[0;34m]\u001b[0m\u001b[0;34m,\u001b[0m \u001b[0mi\u001b[0m\u001b[0;34m)\u001b[0m\u001b[0;34m)\u001b[0m\u001b[0;34m\u001b[0m\u001b[0;34m\u001b[0m\u001b[0m\n\u001b[1;32m      3\u001b[0m     \u001b[0;32mfor\u001b[0m \u001b[0mimage\u001b[0m\u001b[0;34m,\u001b[0m \u001b[0mlabel\u001b[0m \u001b[0;32min\u001b[0m \u001b[0mfiltered_ds\u001b[0m\u001b[0;34m.\u001b[0m\u001b[0mtake\u001b[0m\u001b[0;34m(\u001b[0m\u001b[0;36m1\u001b[0m\u001b[0;34m)\u001b[0m\u001b[0;34m:\u001b[0m\u001b[0;34m\u001b[0m\u001b[0;34m\u001b[0m\u001b[0m\n\u001b[1;32m      4\u001b[0m         \u001b[0max\u001b[0m \u001b[0;34m=\u001b[0m \u001b[0mplt\u001b[0m\u001b[0;34m.\u001b[0m\u001b[0msubplot\u001b[0m\u001b[0;34m(\u001b[0m\u001b[0;36m3\u001b[0m\u001b[0;34m,\u001b[0m \u001b[0;36m3\u001b[0m\u001b[0;34m,\u001b[0m \u001b[0mi\u001b[0m\u001b[0;34m+\u001b[0m\u001b[0;36m1\u001b[0m\u001b[0;34m)\u001b[0m\u001b[0;34m\u001b[0m\u001b[0;34m\u001b[0m\u001b[0m\n\u001b[1;32m      5\u001b[0m         \u001b[0mplt\u001b[0m\u001b[0;34m.\u001b[0m\u001b[0mimshow\u001b[0m\u001b[0;34m(\u001b[0m\u001b[0mimage\u001b[0m\u001b[0;34m[\u001b[0m\u001b[0;36m0\u001b[0m\u001b[0;34m]\u001b[0m\u001b[0;34m.\u001b[0m\u001b[0mnumpy\u001b[0m\u001b[0;34m(\u001b[0m\u001b[0;34m)\u001b[0m\u001b[0;34m.\u001b[0m\u001b[0mastype\u001b[0m\u001b[0;34m(\u001b[0m\u001b[0;34m'uint8'\u001b[0m\u001b[0;34m)\u001b[0m\u001b[0;34m)\u001b[0m\u001b[0;34m\u001b[0m\u001b[0;34m\u001b[0m\u001b[0m\n",
            "\u001b[0;31mTypeError\u001b[0m: object of type 'Sequential' has no len()"
          ]
        }
      ]
    },
    {
      "cell_type": "code",
      "source": [
        "\n",
        "# loss values for further plotting\n",
        "D_L_REAL = []\n",
        "D_L_FAKE = []\n",
        "D_L = []\n",
        "D_ACC = []\n",
        "G_L = []\n",
        "\n",
        "plt.plot(D_L_LOSS)\n",
        "plt.plot(G_L_LOSS)\n",
        "plt.title('Discriminator results (modelnet10)')\n",
        "plt.xlabel('Epochs')\n",
        "plt.ylabel('Discriminator Loss (blue), DGenerator Loss(orange)')\n",
        "plt.legend(['Discriminator Loss', 'Generator Loss'])\n",
        "plt.show()"
      ],
      "metadata": {
        "colab": {
          "base_uri": "https://localhost:8080/",
          "height": 299
        },
        "id": "DXD9SbhxDflS",
        "outputId": "4d019072-f12c-4b07-b0ad-0bc5a59883ef"
      },
      "execution_count": null,
      "outputs": [
        {
          "output_type": "display_data",
          "data": {
            "text/plain": [
              "<Figure size 432x288 with 1 Axes>"
            ],
            "image/png": "[encoded data removed]"
          },
          "metadata": {
            "needs_background": "light"
          }
        }
      ]
    }
  ]
}